{
 "cells": [
  {
   "cell_type": "code",
   "execution_count": null,
   "id": "d7278e1e-8d91-46d8-ac9c-054964b47c88",
   "metadata": {
    "tags": []
   },
   "outputs": [],
   "source": [
    "'''\n",
    "Author: Rinav Kasthuri\n",
    "'''\n",
    "\n",
    "import pickle\n",
    "import sys\n",
    "import os\n",
    "import pygame\n",
    "\n",
    "from processor import decode_midi"
   ]
  },
  {
   "cell_type": "code",
   "execution_count": null,
   "id": "f3a1a0df-ad00-4546-b59e-492aeb88f896",
   "metadata": {},
   "outputs": [],
   "source": [
    "pygame.init()"
   ]
  },
  {
   "cell_type": "code",
   "execution_count": null,
   "id": "57df9c62-50c7-4526-9d1d-17355c99d1c3",
   "metadata": {},
   "outputs": [],
   "source": [
    "###### CONSTANTS / HYPERPARAMETERS ######\n",
    "DATA_DIR = os.path.join(\"dataset\", \"e_piano\")\n",
    "DATA_FOLDERS = os.listdir(DATA_DIR)"
   ]
  },
  {
   "cell_type": "code",
   "execution_count": null,
   "id": "07941c07-2b5c-49fa-890d-7b109aac7555",
   "metadata": {},
   "outputs": [],
   "source": [
    "###### STANDARDIZE NAMES OF ALL FILES IN DATA TO HELP KEEP TRACK OF THINGS #######\n",
    "def standardize_filenames():    \n",
    "    for folder in DATA_FOLDERS:\n",
    "        folder_path = os.path.join(DATA_DIR, folder)\n",
    "        data_filenames = sorted(os.listdir(folder_path))\n",
    "        \n",
    "        for idx, original_filename in enumerate(data_filenames):\n",
    "            if original_filename.split(\".\")[-1] not in [\"png\", \"jpg\", \"jpeg\"]:\n",
    "                new_filename = f\"{idx}.\" + \".\".join(original_filename.split(\".\")[-2:])\n",
    "                original_path = os.path.join(folder_path, original_filename)\n",
    "                new_path = os.path.join(folder_path, new_filename)\n",
    "\n",
    "                if not os.path.exists(new_path):\n",
    "                    os.rename(original_path, new_path)"
   ]
  },
  {
   "cell_type": "code",
   "execution_count": null,
   "id": "9ab45018-3adb-40ae-92b6-89c10dcf1892",
   "metadata": {},
   "outputs": [],
   "source": [
    "file_no = 519"
   ]
  },
  {
   "cell_type": "code",
   "execution_count": null,
   "id": "2ce6a582-33de-46ac-b83d-b692d6bd977b",
   "metadata": {},
   "outputs": [],
   "source": [
    "file_no += 1\n",
    "print(f\"current file no: {file_no}\")\n",
    "pickled_mid_file = open(os.path.join(DATA_DIR, \"train\", f\"{file_no}.midi.pickle\"), \"rb\")\n",
    "mid = pickle.load(pickled_mid_file)\n",
    "decode_midi(mid, os.path.join(\"output\", \"test_primer.mid\"))\n",
    "\n",
    "pygame.mixer.music.load(os.path.join(\"output\", \"test_primer.mid\"))\n",
    "pygame.mixer.music.play()"
   ]
  },
  {
   "cell_type": "code",
   "execution_count": null,
   "id": "fd243798-e1b4-4d6b-aa59-3d454d04d227",
   "metadata": {},
   "outputs": [],
   "source": [
    "### CREATING A NEW PIECE ######\n",
    "%run generate.py --rpr -image_path \"dataset/e_piano/train/48.jpg\" -num_prime 200 \\\n",
    "    -model_weights \"epoch_0220.pickle\" -output_dir output/generated -target_seq_length 1000"
   ]
  },
  {
   "cell_type": "code",
   "execution_count": null,
   "id": "94682b1d-f58d-49dc-ac2b-8d6629bea4e7",
   "metadata": {
    "tags": []
   },
   "outputs": [],
   "source": [
    "import pygame, os\n",
    "pygame.init()\n",
    "pygame.mixer.music.load(os.path.join(\"output\", \"generated\", \"rand.mid\"))\n",
    "pygame.mixer.music.play()"
   ]
  },
  {
   "cell_type": "code",
   "execution_count": null,
   "id": "68231eab-959f-43ad-8630-b2cd16f399e2",
   "metadata": {},
   "outputs": [],
   "source": [
    "import pretty_midi, seaborn as sns, os\n",
    "mid = pretty_midi.PrettyMIDI(os.path.join(\"output\", \"generated\", \"rand.mid\"))\n",
    "sns.heatmap(mid.get_piano_roll())"
   ]
  },
  {
   "cell_type": "code",
   "execution_count": null,
   "id": "3bde0a80-784d-4e51-a24d-4af81e7f085b",
   "metadata": {},
   "outputs": [],
   "source": [
    "import pretty_midi, seaborn as sns\n",
    "mid = pretty_midi.PrettyMIDI(os.path.join(\"output\", \"generated\", \"rand_guided.mid\"))\n",
    "sns.heatmap(mid.get_piano_roll())"
   ]
  }
 ],
 "metadata": {
  "kernelspec": {
   "display_name": "Python 3",
   "language": "python",
   "name": "python3"
  },
  "language_info": {
   "codemirror_mode": {
    "name": "ipython",
    "version": 3
   },
   "file_extension": ".py",
   "mimetype": "text/x-python",
   "name": "python",
   "nbconvert_exporter": "python",
   "pygments_lexer": "ipython3",
   "version": "3.8.5"
  }
 },
 "nbformat": 4,
 "nbformat_minor": 5
}
